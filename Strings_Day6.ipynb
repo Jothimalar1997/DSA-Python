{
  "nbformat": 4,
  "nbformat_minor": 0,
  "metadata": {
    "colab": {
      "provenance": []
    },
    "kernelspec": {
      "name": "python3",
      "display_name": "Python 3"
    },
    "language_info": {
      "name": "python"
    }
  },
  "cells": [
    {
      "cell_type": "markdown",
      "source": [
        "## Leetcode 344 - Reverse String\n",
        "Write a function that reverses a string. The input string is given as an array of characters s.\n",
        "\n",
        "You must do this by modifying the input array in-place with O(1) extra memory.\n",
        "\n",
        "\n",
        "\n",
        "Example 1:\n",
        "\n",
        "Input: s = [\"h\",\"e\",\"l\",\"l\",\"o\"]\n",
        "Output: [\"o\",\"l\",\"l\",\"e\",\"h\"]\n",
        "Example 2:\n",
        "\n",
        "Input: s = [\"H\",\"a\",\"n\",\"n\",\"a\",\"h\"]\n",
        "Output: [\"h\",\"a\",\"n\",\"n\",\"a\",\"H\"]"
      ],
      "metadata": {
        "id": "uCXcpehLMQAr"
      }
    },
    {
      "cell_type": "code",
      "execution_count": 1,
      "metadata": {
        "colab": {
          "base_uri": "https://localhost:8080/"
        },
        "id": "69tecD_3wRgU",
        "outputId": "25e32376-66ad-48d6-981e-6511f5c7055a"
      },
      "outputs": [
        {
          "output_type": "stream",
          "name": "stdout",
          "text": [
            "Enter the array elements:h,e,l,l,o\n",
            "['o', 'l', 'l', 'e', 'h']\n"
          ]
        }
      ],
      "source": [
        "s=list(input(\"Enter the array elements:\").split(\",\"))\n",
        "low=0\n",
        "high=len(s)-1\n",
        "while(low<high):\n",
        "  s[low],s[high]=s[high],s[low]\n",
        "  low+=1\n",
        "  high-=1\n",
        "print(s)"
      ]
    },
    {
      "cell_type": "markdown",
      "source": [
        "## Leetcode 58 - Length of Last Word\n",
        "Given a string s consisting of words and spaces, return the length of the last word in the string.\n",
        "\n",
        "A word is a maximal substring consisting of non-space characters only.\n",
        "\n",
        "Example 1:\n",
        "\n",
        "Input: s = \"Hello World\"\n",
        "Output: 5\n",
        "Explanation: The last word is \"World\" with length 5.\n",
        "Example 2:\n",
        "\n",
        "Input: s = \"   fly me   to   the moon  \"\n",
        "Output: 4\n",
        "Explanation: The last word is \"moon\" with length 4.\n",
        "Example 3:\n",
        "\n",
        "Input: s = \"luffy is still joyboy\"\n",
        "Output: 6\n",
        "Explanation: The last word is \"joyboy\" with length 6.\n"
      ],
      "metadata": {
        "id": "0SUZ9lmSOMFm"
      }
    },
    {
      "cell_type": "code",
      "source": [
        "s=input(\"Enter the String:\")\n",
        "lst=s.strip().split()\n",
        "n=len(lst)-1\n",
        "print(len(lst[n]))"
      ],
      "metadata": {
        "colab": {
          "base_uri": "https://localhost:8080/"
        },
        "id": "osV_yzLVOVWE",
        "outputId": "42b648f8-75bf-4394-ae2b-0b7e321706ad"
      },
      "execution_count": 2,
      "outputs": [
        {
          "output_type": "stream",
          "name": "stdout",
          "text": [
            "Enter the String: fly me to the moon\n",
            "4\n"
          ]
        }
      ]
    },
    {
      "cell_type": "markdown",
      "source": [
        "## Leetcode 151 - Reverse Words in a String\n",
        "Given an input string s, reverse the order of the words.\n",
        "\n",
        "A word is defined as a sequence of non-space characters. The words in s will be separated by at least one space.\n",
        "\n",
        "Return a string of the words in reverse order concatenated by a single space.\n",
        "\n",
        "Note that s may contain leading or trailing spaces or multiple spaces between two words. The returned string should only have a single space separating the words. Do not include any extra spaces.\n",
        "\n",
        "\n",
        "Example 1:\n",
        "\n",
        "Input: s = \"the sky is blue\"\n",
        "Output: \"blue is sky the\"\n",
        "Example 2:\n",
        "\n",
        "Input: s = \"  hello world  \"\n",
        "Output: \"world hello\"\n",
        "Explanation: Your reversed string should not contain leading or trailing spaces.\n",
        "Example 3:\n",
        "\n",
        "Input: s = \"a good   example\"\n",
        "Output: \"example good a\"\n",
        "Explanation: You need to reduce multiple spaces between two words to a single space in the reversed string."
      ],
      "metadata": {
        "id": "a6lofpY7O4zW"
      }
    },
    {
      "cell_type": "code",
      "source": [
        "s=input(\"Enter the String:\")\n",
        "lst=s.strip().split()\n",
        "print(\" \".join(reversed(lst)))"
      ],
      "metadata": {
        "colab": {
          "base_uri": "https://localhost:8080/"
        },
        "id": "jA42P-JvO-Su",
        "outputId": "82b14b72-919d-49dc-fadb-3e0e72ef5ef3"
      },
      "execution_count": 3,
      "outputs": [
        {
          "output_type": "stream",
          "name": "stdout",
          "text": [
            "Enter the String:the sky is blue\n",
            "blue is sky the\n"
          ]
        }
      ]
    },
    {
      "cell_type": "markdown",
      "source": [
        "## Leetcode 53 - Maximum Subarray\n",
        "Given an integer array nums, find the subarray with the largest sum, and return its sum.\n",
        "\n",
        "Example 1:\n",
        "\n",
        "Input: nums = [-2,1,-3,4,-1,2,1,-5,4]\n",
        "Output: 6\n",
        "Explanation: The subarray [4,-1,2,1] has the largest sum 6.\n",
        "Example 2:\n",
        "\n",
        "Input: nums = [1]\n",
        "Output: 1\n",
        "Explanation: The subarray [1] has the largest sum 1.\n",
        "Example 3:\n",
        "\n",
        "Input: nums = [5,4,-1,7,8]\n",
        "Output: 23\n",
        "Explanation: The subarray [5,4,-1,7,8] has the largest sum 23."
      ],
      "metadata": {
        "id": "4ZjIFCo_PK2c"
      }
    },
    {
      "cell_type": "code",
      "source": [
        "nums=list(map(int,input(\"Enter the array elements:\").split(\",\")))\n",
        "sum=0\n",
        "max=nums[0]\n",
        "for i in range(0,len(nums)):\n",
        "  sum+=nums[i]\n",
        "  if(sum>max):\n",
        "    max=sum\n",
        "  if(sum<0):\n",
        "    sum=0\n",
        "print(max)"
      ],
      "metadata": {
        "colab": {
          "base_uri": "https://localhost:8080/"
        },
        "id": "RhAmilR9PUQN",
        "outputId": "3bc5bd3b-62b3-4394-8202-91cb6d0638d3"
      },
      "execution_count": 4,
      "outputs": [
        {
          "output_type": "stream",
          "name": "stdout",
          "text": [
            "Enter the array elements:-2,1,-3,4,-1,2,1,-5,4\n",
            "6\n"
          ]
        }
      ]
    }
  ]
}