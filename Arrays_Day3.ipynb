{
  "nbformat": 4,
  "nbformat_minor": 0,
  "metadata": {
    "colab": {
      "provenance": []
    },
    "kernelspec": {
      "name": "python3",
      "display_name": "Python 3"
    },
    "language_info": {
      "name": "python"
    }
  },
  "cells": [
    {
      "cell_type": "markdown",
      "source": [
        "## Leetcode 75 - Sort Colors\n",
        "Given an array nums with n objects colored red, white, or blue, sort them in-place so that objects of the same color are adjacent, with the colors in the order red, white, and blue.\n",
        "\n",
        "We will use the integers 0, 1, and 2 to represent the color red, white, and blue, respectively.\n",
        "\n",
        "You must solve this problem without using the library's sort function.\n",
        "\n",
        "\n",
        "\n",
        "Example 1:\n",
        "\n",
        "Input: nums = [2,0,2,1,1,0]\n",
        "Output: [0,0,1,1,2,2]\n",
        "Example 2:\n",
        "\n",
        "Input: nums = [2,0,1]\n",
        "Output: [0,1,2]"
      ],
      "metadata": {
        "id": "HN2dpe3jK8vi"
      }
    },
    {
      "cell_type": "code",
      "execution_count": 1,
      "metadata": {
        "colab": {
          "base_uri": "https://localhost:8080/"
        },
        "id": "rhQnJNI3K4AV",
        "outputId": "e32597ee-a52a-4260-808d-ac227893288b"
      },
      "outputs": [
        {
          "output_type": "stream",
          "name": "stdout",
          "text": [
            "Enter the array elements:2,0,2,1,1,0\n",
            "[0, 0, 1, 1, 2, 2]\n"
          ]
        }
      ],
      "source": [
        "nums=list(map(int,input(\"Enter the array elements:\").split(\",\")))\n",
        "p0=curr=0\n",
        "p2=len(nums)-1\n",
        "while (curr<=p2):\n",
        "  if(nums[curr]==0):\n",
        "    nums[curr],nums[p0]=nums[p0],nums[curr]\n",
        "    p0+=1\n",
        "    curr+=1\n",
        "  elif(nums[curr]==2):\n",
        "    nums[p2],nums[curr]=nums[curr],nums[p2]\n",
        "    p2-=1\n",
        "  else:\n",
        "    curr+=1\n",
        "print(nums)"
      ]
    },
    {
      "cell_type": "markdown",
      "source": [
        "## Leetcode 189 - Rotate Array\n",
        "Given an integer array nums, rotate the array to the right by k steps, where k is non-negative.\n",
        "\n",
        "\n",
        "\n",
        "Example 1:\n",
        "\n",
        "Input: nums = [1,2,3,4,5,6,7], k = 3\n",
        "Output: [5,6,7,1,2,3,4]\n",
        "Explanation:\n",
        "rotate 1 steps to the right: [7,1,2,3,4,5,6]\n",
        "rotate 2 steps to the right: [6,7,1,2,3,4,5]\n",
        "rotate 3 steps to the right: [5,6,7,1,2,3,4]\n",
        "Example 2:\n",
        "\n",
        "Input: nums = [-1,-100,3,99], k = 2\n",
        "Output: [3,99,-1,-100]\n",
        "Explanation:\n",
        "rotate 1 steps to the right: [99,-1,-100,3]\n",
        "rotate 2 steps to the right: [3,99,-1,-100]"
      ],
      "metadata": {
        "id": "kEQO7A0DMrnb"
      }
    },
    {
      "cell_type": "code",
      "source": [
        "nums=list(map(int,input(\"Enter the array elements:\").split(\",\")))\n",
        "k=int(input(\"Enter the value of k:\"))\n",
        "n=len(nums)\n",
        "k=k%n\n",
        "def reverse(nums,low,high):\n",
        "        while(low<high):\n",
        "            nums[low],nums[high]=nums[high],nums[low]\n",
        "            low+=1\n",
        "            high-=1\n",
        "reverse(nums,0,n-k-1)\n",
        "reverse(nums,n-k,n-1)\n",
        "reverse(nums,0,n-1)\n",
        "print(nums)"
      ],
      "metadata": {
        "colab": {
          "base_uri": "https://localhost:8080/"
        },
        "id": "bXXf5Tt5Mwaq",
        "outputId": "36e911c6-f764-4fb9-f3e4-09120f217d09"
      },
      "execution_count": 2,
      "outputs": [
        {
          "output_type": "stream",
          "name": "stdout",
          "text": [
            "Enter the array elements:1,2,3,4,5,6,7\n",
            "Enter the value of k:3\n",
            "[5, 6, 7, 1, 2, 3, 4]\n"
          ]
        }
      ]
    }
  ]
}