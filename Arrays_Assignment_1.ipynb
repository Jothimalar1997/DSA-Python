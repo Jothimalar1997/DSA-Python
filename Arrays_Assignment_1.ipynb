{
  "nbformat": 4,
  "nbformat_minor": 0,
  "metadata": {
    "colab": {
      "provenance": []
    },
    "kernelspec": {
      "name": "python3",
      "display_name": "Python 3"
    },
    "language_info": {
      "name": "python"
    }
  },
  "cells": [
    {
      "cell_type": "markdown",
      "source": [
        "<aside>\n",
        "## Leetcode 1 - Two Sum\n",
        "\n",
        "💡 **Q1.** Given an array of integers nums and an integer target, return indices of the two numbers such that they add up to target.\n",
        "\n",
        "You may assume that each input would have exactly one solution, and you may not use the same element twice.\n",
        "\n",
        "You can return the answer in any order.\n",
        "\n",
        "**Example:**\n",
        "Input: nums = [2,7,11,15], target = 9\n",
        "Output0 [0,1]\n",
        "\n",
        "**Explanation:** Because nums[0] + nums[1] == 9, we return [0, 1]\n",
        "\n",
        "</aside>"
      ],
      "metadata": {
        "id": "xywFvYzB8nG4"
      }
    },
    {
      "cell_type": "code",
      "source": [
        "def Calculation(array,target):\n",
        "  d={}\n",
        "  for index,value in enumerate(array):\n",
        "    rem=target-value\n",
        "    if rem in d: return(d[rem],index)\n",
        "    d[value]=index\n",
        "\n",
        "if __name__=='__main__':\n",
        "  arr=(input(\"Enter the array elements:\"))\n",
        "  num=list(map(int,arr.split(',')))\n",
        "  target=int(input(\"Enter tha target element:\"))\n",
        "  result=Calculation(num,target)\n",
        "  print(result)"
      ],
      "metadata": {
        "colab": {
          "base_uri": "https://localhost:8080/"
        },
        "id": "e3CY3sz0_TAF",
        "outputId": "d3747bab-5310-4f5d-f6ad-4533d2e3fd03"
      },
      "execution_count": 1,
      "outputs": [
        {
          "output_type": "stream",
          "name": "stdout",
          "text": [
            "Enter the array elements:2,7,11,5\n",
            "Enter tha target element:9\n",
            "(0, 1)\n"
          ]
        }
      ]
    },
    {
      "cell_type": "markdown",
      "source": [
        "<aside>\n",
        "## Leetcode 27 - Remove Element\n",
        "\n",
        "💡 **Q2.** Given an integer array nums and an integer val, remove all occurrences of val in nums in-place. The order of the elements may be changed. Then return the number of elements in nums which are not equal to val.\n",
        "\n",
        "Consider the number of elements in nums which are not equal to val be k, to get accepted, you need to do the following things:\n",
        "\n",
        "- Change the array nums such that the first k elements of nums contain the elements which are not equal to val. The remaining elements of nums are not important as well as the size of nums.\n",
        "- Return k.\n",
        "\n",
        "**Example :**\n",
        "Input: nums = [3,2,2,3], val = 3\n",
        "Output: 2, nums = [2,2,_*,_*]\n",
        "\n",
        "**Explanation:** Your function should return k = 2, with the first two elements of nums being 2. It does not matter what you leave beyond the returned k (hence they are underscores)[\n",
        "\n",
        "</aside>"
      ],
      "metadata": {
        "id": "oAfFZngoRRWs"
      }
    },
    {
      "cell_type": "code",
      "source": [
        "def RemoveOccurence(array,value):\n",
        "  start=0\n",
        "  for i in range(len(array)):\n",
        "    if(array[i]!=value):\n",
        "      array[start]=array[i]\n",
        "      start+=1\n",
        "  for j in (range(start,len(array))):\n",
        "    array[j]=\"_\"\n",
        "  return start\n",
        "if __name__=='__main__':\n",
        "  arr=(input(\"Enter the array elements:\"))\n",
        "  num=list(map(int,arr.split(',')))\n",
        "  val=int(input(\"Enter tha target element:\"))\n",
        "  result=RemoveOccurence(num,val)\n",
        "  print(\"Number of elements in array which are not equal to val be k\",result)"
      ],
      "metadata": {
        "colab": {
          "base_uri": "https://localhost:8080/"
        },
        "id": "QTLuNVJ7RXQz",
        "outputId": "ed654d5c-3f60-45c7-c658-24b03ed0bacd"
      },
      "execution_count": 2,
      "outputs": [
        {
          "output_type": "stream",
          "name": "stdout",
          "text": [
            "Enter the array elements:3,2,2,3\n",
            "Enter tha target element:3\n",
            "Number of elements in array which are not equal to val be k 2\n"
          ]
        }
      ]
    },
    {
      "cell_type": "markdown",
      "source": [
        "<aside>\n",
        "## Leetcode 35 - Search Insert Position\n",
        "\n",
        "💡 **Q3.** Given a sorted array of distinct integers and a target value, return the index if the target is found. If not, return the index where it would be if it were inserted in order.\n",
        "\n",
        "You must write an algorithm with O(log n) runtime complexity.\n",
        "\n",
        "**Example 1:**\n",
        "Input: nums = [1,3,5,6], target = 5\n",
        "\n",
        "Output: 2\n",
        "\n",
        "</aside>"
      ],
      "metadata": {
        "id": "DVxRzJuQiNVr"
      }
    },
    {
      "cell_type": "code",
      "source": [
        "def SearchIndex(List,Target):\n",
        "  l = 0\n",
        "  r = len(List) - 1\n",
        "  while l <= r:\n",
        "   mid = (l + r) // 2\n",
        "   if List[mid]<Target:\n",
        "     l = mid + 1\n",
        "   elif List[mid] > Target:\n",
        "     r = mid - 1\n",
        "   else:\n",
        "     return mid\n",
        "  return l\n",
        "if __name__=='__main__':\n",
        "  arr=(input(\"Enter the array elements:\"))\n",
        "  num=list(map(int,arr.split(',')))\n",
        "  val=int(input(\"Enter tha target element:\"))\n",
        "  result=SearchIndex(num,val)\n",
        "  print(\"Index of the target k is\",result)"
      ],
      "metadata": {
        "colab": {
          "base_uri": "https://localhost:8080/"
        },
        "id": "IgektPPriPBc",
        "outputId": "a6b92f65-d118-42cd-f012-71afd0194cbd"
      },
      "execution_count": 3,
      "outputs": [
        {
          "output_type": "stream",
          "name": "stdout",
          "text": [
            "Enter the array elements:1,3,5,6\n",
            "Enter tha target element:5\n",
            "Index of the target k is 2\n"
          ]
        }
      ]
    },
    {
      "cell_type": "markdown",
      "source": [
        "<aside>\n",
        "## Leetcode 66 - Plus One\n",
        "\n",
        "💡 **Q4.** You are given a large integer represented as an integer array digits, where each digits[i] is the ith digit of the integer. The digits are ordered from most significant to least significant in left-to-right order. The large integer does not contain any leading 0's.\n",
        "\n",
        "Increment the large integer by one and return the resulting array of digits.\n",
        "\n",
        "**Example 1:**\n",
        "Input: digits = [1,2,3]\n",
        "Output: [1,2,4]\n",
        "\n",
        "**Explanation:** The array represents the integer 123.\n",
        "\n",
        "Incrementing by one gives 123 + 1 = 124.\n",
        "Thus, the result should be [1,2,4].\n",
        "\n",
        "</aside>"
      ],
      "metadata": {
        "id": "uHodQVBLSc1L"
      }
    },
    {
      "cell_type": "code",
      "source": [
        "arr=(input(\"Enter the array elements:\"))\n",
        "num=list(map(int,arr.split(',')))\n",
        "s=''\n",
        "numlist=[]\n",
        "for i in num:\n",
        "  s+=str(i)\n",
        "  num=int(s)+1\n",
        "  numstr=str(num)\n",
        "  numlist=list(int(numstr[i]) for i in range(len(numstr)))\n",
        "print(numlist)"
      ],
      "metadata": {
        "colab": {
          "base_uri": "https://localhost:8080/"
        },
        "id": "SUBWkLZ5Toyf",
        "outputId": "ae8fbe40-d9ee-41cd-d9f6-74dca5587411"
      },
      "execution_count": 4,
      "outputs": [
        {
          "output_type": "stream",
          "name": "stdout",
          "text": [
            "Enter the array elements:1,2,3\n",
            "[1, 2, 4]\n"
          ]
        }
      ]
    },
    {
      "cell_type": "markdown",
      "source": [
        "<aside>\n",
        "## Leetcode 88 - Merge Sorted Array\n",
        "\n",
        "💡 **Q5.** You are given two integer arrays nums1 and nums2, sorted in non-decreasing order, and two integers m and n, representing the number of elements in nums1 and nums2 respectively.\n",
        "\n",
        "Merge nums1 and nums2 into a single array sorted in non-decreasing order.\n",
        "\n",
        "The final sorted array should not be returned by the function, but instead be stored inside the array nums1. To accommodate this, nums1 has a length of m + n, where the first m elements denote the elements that should be merged, and the last n elements are set to 0 and should be ignored. nums2 has a length of n.\n",
        "\n",
        "**Example 1:**\n",
        "Input: nums1 = [1,2,3,0,0,0], m = 3, nums2 = [2,5,6], n = 3\n",
        "Output: [1,2,2,3,5,6]\n",
        "\n",
        "**Explanation:** The arrays we are merging are [1,2,3] and [2,5,6].\n",
        "The result of the merge is [1,2,2,3,5,6] with the underlined elements coming from nums1.\n",
        "\n",
        "</aside>"
      ],
      "metadata": {
        "id": "JfPrC2qwbDxi"
      }
    },
    {
      "cell_type": "code",
      "source": [
        "def SortedArray(num1,num2,m,n):\n",
        "  del num1[m:]\n",
        "  num1.extend(num2)\n",
        "  num1.sort()\n",
        "if __name__=='__main__':\n",
        "  arr1=(input(\"Enter the array elements:\"))\n",
        "  num1=list(map(int,arr1.split(',')))\n",
        "  m=int(input(\"No of elements in array 1:\"))\n",
        "  arr2=(input(\"Enter the array elements:\"))\n",
        "  num2=list(map(int,arr2.split(',')))\n",
        "  n=int(input(\"No of elements in array 2:\"))\n",
        "  SortedArray(num1,num2,m,n)\n",
        "  print(num1)"
      ],
      "metadata": {
        "colab": {
          "base_uri": "https://localhost:8080/"
        },
        "id": "W12KH2r_bIsF",
        "outputId": "6d8612e9-1d2b-4abb-d3de-81938137ea32"
      },
      "execution_count": 5,
      "outputs": [
        {
          "output_type": "stream",
          "name": "stdout",
          "text": [
            "Enter the array elements:1,2,3,0,0,0\n",
            "No of elements in array 1:3\n",
            "Enter the array elements:2,5,6\n",
            "No of elements in array 2:3\n",
            "[1, 2, 2, 3, 5, 6]\n"
          ]
        }
      ]
    },
    {
      "cell_type": "markdown",
      "source": [
        "<aside>\n",
        "## Leetcode 217 - Contains Duplicate\n",
        "\n",
        "💡 **Q6.** Given an integer array nums, return true if any value appears at least twice in the array, and return false if every element is distinct.\n",
        "\n",
        "**Example 1:**\n",
        "Input: nums = [1,2,3,1]\n",
        "\n",
        "Output: true\n",
        "\n",
        "</aside>"
      ],
      "metadata": {
        "id": "M6iK3jr0fSu9"
      }
    },
    {
      "cell_type": "code",
      "source": [
        "## Solution 1:\n",
        "nums=list(map(int,(input(\"Enter the array elements:\").split(','))))\n",
        "d={}\n",
        "bool='false'\n",
        "for i in nums:\n",
        "  if i in d:\n",
        "    d[i]+=1\n",
        "  else:\n",
        "    d[i]=1\n",
        "for i in d.values():\n",
        "  if i>1:\n",
        "    bool='true'\n",
        "    break\n",
        "print(bool)"
      ],
      "metadata": {
        "colab": {
          "base_uri": "https://localhost:8080/"
        },
        "id": "DM03aMa7ffy0",
        "outputId": "b636cdd5-e64a-4843-8e94-8e2051b8281e"
      },
      "execution_count": 6,
      "outputs": [
        {
          "output_type": "stream",
          "name": "stdout",
          "text": [
            "Enter the array elements:1,2,3,1\n",
            "true\n"
          ]
        }
      ]
    },
    {
      "cell_type": "code",
      "source": [
        "## Solution 2:\n",
        "nums=list(map(int,(input(\"Enter the array elements:\").split(','))))\n",
        "print(len(set(nums)) != len(nums))"
      ],
      "metadata": {
        "colab": {
          "base_uri": "https://localhost:8080/"
        },
        "id": "8kgHNXEqlfoC",
        "outputId": "475fda3d-0dc9-46f9-be7a-ee9c523dd134"
      },
      "execution_count": 7,
      "outputs": [
        {
          "output_type": "stream",
          "name": "stdout",
          "text": [
            "Enter the array elements:1,2,3,1\n",
            "True\n"
          ]
        }
      ]
    },
    {
      "cell_type": "markdown",
      "source": [
        "<aside>\n",
        "## Leetcode 283 -  Move Zeroes\n",
        "\n",
        "💡 **Q7.** Given an integer array nums, move all 0's to the end of it while maintaining the relative order of the nonzero elements.\n",
        "\n",
        "Note that you must do this in-place without making a copy of the array.\n",
        "\n",
        "**Example 1:**\n",
        "Input: nums = [0,1,0,3,12]\n",
        "Output: [1,3,12,0,0]\n",
        "\n",
        "</aside>"
      ],
      "metadata": {
        "id": "hhnoOcFSmBra"
      }
    },
    {
      "cell_type": "code",
      "source": [
        "nums=list(map(int,(input(\"Enter the array elements:\").split(','))))\n",
        "start=0\n",
        "for i in nums:\n",
        "  if (i!=0):\n",
        "    nums[start]=i\n",
        "    start+=1\n",
        "for i in range(start,len(nums)):\n",
        "  nums[i]=0\n",
        "print(nums)"
      ],
      "metadata": {
        "colab": {
          "base_uri": "https://localhost:8080/"
        },
        "id": "aCkuao3t43k3",
        "outputId": "51a96a43-09db-4d48-be1d-a640495e266a"
      },
      "execution_count": 8,
      "outputs": [
        {
          "output_type": "stream",
          "name": "stdout",
          "text": [
            "Enter the array elements:0,1,0,3,1,2\n",
            "[1, 3, 1, 2, 0, 0]\n"
          ]
        }
      ]
    },
    {
      "cell_type": "markdown",
      "source": [
        "<aside>\n",
        "## Leetcode 645 - Set Mismatch\n",
        "\n",
        "💡 **Q8.** You have a set of integers s, which originally contains all the numbers from 1 to n. Unfortunately, due to some error, one of the numbers in s got duplicated to another number in the set, which results in repetition of one number and loss of another number.\n",
        "\n",
        "You are given an integer array nums representing the data status of this set after the error.\n",
        "\n",
        "Find the number that occurs twice and the number that is missing and return them in the form of an array.\n",
        "\n",
        "**Example 1:**\n",
        "Input: nums = [1,2,2,4]\n",
        "Output: [2,3]\n",
        "\n",
        "</aside>"
      ],
      "metadata": {
        "id": "UFH96Gpu66Eg"
      }
    },
    {
      "cell_type": "code",
      "source": [
        "## Solution 1:\n",
        "nums=list(map(int,(input(\"Enter the array elements:\").split(','))))\n",
        "n=len(nums)\n",
        "N=(n*(n+1))//2\n",
        "Nsquare=(n*(n+1)*((2*n)+1))//6\n",
        "N1,N1square=0,0\n",
        "for i in nums:\n",
        "  N1=N1+i\n",
        "  N1square=N1square+(i*i)\n",
        "val1=N-N1     ## X-Y\n",
        "val2=Nsquare-N1square  ## X^2-Y^2\n",
        "val3=val2//val1 ## X+Y\n",
        "X=(val1+val3)//2\n",
        "Y=X-val1\n",
        "print(f\"Repeated value:{Y} and Missed Value:{X}\")"
      ],
      "metadata": {
        "colab": {
          "base_uri": "https://localhost:8080/"
        },
        "id": "Vfz2lW5o65Q5",
        "outputId": "82e2e110-603b-499e-bccf-134526dba183"
      },
      "execution_count": 9,
      "outputs": [
        {
          "output_type": "stream",
          "name": "stdout",
          "text": [
            "Enter the array elements:1,2,2,4\n",
            "Repeated value:2 and Missed Value:3\n"
          ]
        }
      ]
    },
    {
      "cell_type": "code",
      "source": [
        "## Solution 2:\n",
        "nums=list(map(int,(input(\"Enter the array elements:\").split(','))))\n",
        "print(sum(nums)-sum(set(nums)), len(nums)*(len(nums)+1)//2-sum(set(nums)))"
      ],
      "metadata": {
        "colab": {
          "base_uri": "https://localhost:8080/"
        },
        "id": "spy2QyGlATKQ",
        "outputId": "6d629c2b-c8e4-49ef-eca2-6064443b1080"
      },
      "execution_count": 10,
      "outputs": [
        {
          "output_type": "stream",
          "name": "stdout",
          "text": [
            "Enter the array elements:1,2,2,4\n",
            "2 3\n"
          ]
        }
      ]
    }
  ]
}