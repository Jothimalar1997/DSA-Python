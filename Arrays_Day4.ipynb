{
  "nbformat": 4,
  "nbformat_minor": 0,
  "metadata": {
    "colab": {
      "provenance": []
    },
    "kernelspec": {
      "name": "python3",
      "display_name": "Python 3"
    },
    "language_info": {
      "name": "python"
    }
  },
  "cells": [
    {
      "cell_type": "markdown",
      "source": [
        "## Leetcode 1572 - Matrix Diagonal Sum\n",
        "Given a square matrix mat, return the sum of the matrix diagonals.\n",
        "\n",
        "Only include the sum of all the elements on the primary diagonal and all the elements on the secondary diagonal that are not part of the primary diagonal.\n",
        "\n",
        "\n",
        "\n",
        "Example 1:\n",
        "Input: mat = [[1,2,3],\n",
        "              [4,5,6],\n",
        "              [7,8,9]]\n",
        "Output: 25\n",
        "Explanation: Diagonals sum: 1 + 5 + 9 + 3 + 7 = 25\n",
        "Notice that element mat[1][1] = 5 is counted only once.\n",
        "Example 2:\n",
        "\n",
        "Input: mat = [[1,1,1,1],\n",
        "              [1,1,1,1],\n",
        "              [1,1,1,1],\n",
        "              [1,1,1,1]]\n",
        "Output: 8\n",
        "Example 3:\n",
        "\n",
        "Input: mat = [[5]]\n",
        "Output: 5"
      ],
      "metadata": {
        "id": "alRzcY4g0PD6"
      }
    },
    {
      "cell_type": "code",
      "execution_count": 1,
      "metadata": {
        "colab": {
          "base_uri": "https://localhost:8080/"
        },
        "id": "Xfwxdk9e0ES3",
        "outputId": "0e181be6-8479-4311-cedd-e66c60305ab9"
      },
      "outputs": [
        {
          "output_type": "stream",
          "name": "stdout",
          "text": [
            "Enter the no of rows:3\n",
            "Enter the no of cols:3\n",
            "Enter the array elements of size 9:1,2,3,4,5,6,7,8,9\n",
            "25\n"
          ]
        }
      ],
      "source": [
        "import numpy as np\n",
        "n=int(input(\"Enter the no of rows:\"))\n",
        "m=int(input(\"Enter the no of cols:\"))\n",
        "a=list(map(int,input(f\"Enter the array elements of size {n*m}:\").split(\",\")))\n",
        "b=np.reshape(a,(n,m))\n",
        "result=0\n",
        "length=len(b)\n",
        "for i in range(0,length):\n",
        "  result+=b[i][i]\n",
        "  result+=b[length-i-1][i]\n",
        "if ((n%2)!=0):\n",
        "  result-=b[length//2][length//2]\n",
        "print(result)"
      ]
    },
    {
      "cell_type": "markdown",
      "source": [
        "## Leetcode 50 - Pow(x, n)\n",
        "Implement pow(x, n), which calculates x raised to the power n (i.e., xn).\n",
        "\n",
        "Example 1:\n",
        "\n",
        "Input: x = 2.00000, n = 10\n",
        "Output: 1024.00000\n",
        "Example 2:\n",
        "\n",
        "Input: x = 2.10000, n = 3\n",
        "Output: 9.26100\n",
        "Example 3:\n",
        "\n",
        "Input: x = 2.00000, n = -2\n",
        "Output: 0.25000\n",
        "Explanation: 2-2 = 1/22 = 1/4 = 0.25"
      ],
      "metadata": {
        "id": "GmDneVyh6tdD"
      }
    },
    {
      "cell_type": "code",
      "source": [
        "x=int(input(\"Enter the value of x:\"))\n",
        "n=int(input(\"Enter the value of n:\"))\n",
        "def pow(x,n):\n",
        "  ## Small Problem\n",
        "  if n==0:\n",
        "    return 1\n",
        "  elif n==1:\n",
        "    return x\n",
        "  elif (n<0):\n",
        "    x=1/x\n",
        "    n=(-n)\n",
        "    return pow(x,n)\n",
        "  ## Big Problem\n",
        "  else:\n",
        "    ## Divide\n",
        "    mid=n//2\n",
        "    ## Conquer\n",
        "    b=pow(x,mid)\n",
        "    ## Combine\n",
        "    result=b*b\n",
        "    if n%2==0:\n",
        "     return result\n",
        "    else:\n",
        "       return (result*x)\n",
        "res=pow(x,n)\n",
        "print(res)"
      ],
      "metadata": {
        "colab": {
          "base_uri": "https://localhost:8080/"
        },
        "id": "SwgfffxD67ak",
        "outputId": "d83d5eb7-4458-4d0d-cd06-7b5528fde7e6"
      },
      "execution_count": 2,
      "outputs": [
        {
          "output_type": "stream",
          "name": "stdout",
          "text": [
            "Enter the value of x:2\n",
            "Enter the value of n:10\n",
            "1024\n"
          ]
        }
      ]
    },
    {
      "cell_type": "markdown",
      "source": [
        "## Leetcode 48 - Rotate Image\n",
        "You are given an n x n 2D matrix representing an image, rotate the image by 90 degrees (clockwise).\n",
        "\n",
        "You have to rotate the image in-place, which means you have to modify the input 2D matrix directly. DO NOT allocate another 2D matrix and do the rotation.\n",
        "\n",
        "Example 1:\n",
        "Input: matrix = [[1,2,3],[4,5,6],[7,8,9]]\n",
        "Output: [[7,4,1],[8,5,2],[9,6,3]]\n",
        "\n",
        "Example 2:\n",
        "Input: matrix = [[5,1,9,11],[2,4,8,10],[13,3,6,7],[15,14,12,16]]\n",
        "Output: [[15,13,2,5],[14,3,4,1],[12,6,8,9],[16,7,10,11]]\n"
      ],
      "metadata": {
        "id": "-2z_hdjG9Wl0"
      }
    },
    {
      "cell_type": "code",
      "source": [
        "import numpy as np\n",
        "n=int(input(\"Enter the value of n:\"))\n",
        "a=list(map(int,input(f\"Enter the array elements of size {n*n}:\").split(\",\")))\n",
        "b=np.reshape(a,(n,n))\n",
        "def transpose(matrix,n):\n",
        "  for i in range(n):\n",
        "    for j in range(i+1,n):\n",
        "      b[i][j],b[j][i]=b[j][i],b[i][j]\n",
        "def swapCols(matrix,n):\n",
        "  for i in range(n):\n",
        "    for j in range(0,n//2):\n",
        "      b[i][j],b[i][n-j-1]=b[i][n-j-1],b[i][j]\n",
        "transpose(b,n)\n",
        "swapCols(b,n)\n",
        "print(b)"
      ],
      "metadata": {
        "colab": {
          "base_uri": "https://localhost:8080/"
        },
        "id": "VO7Dp6i49o2a",
        "outputId": "3888bc16-0735-43ea-bdd3-3c4f83826b3a"
      },
      "execution_count": 3,
      "outputs": [
        {
          "output_type": "stream",
          "name": "stdout",
          "text": [
            "Enter the value of n:3\n",
            "Enter the array elements of size 9:1,2,3,4,5,6,7,8,9\n",
            "[[7 4 1]\n",
            " [8 5 2]\n",
            " [9 6 3]]\n"
          ]
        }
      ]
    }
  ]
}