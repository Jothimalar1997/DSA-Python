{
  "nbformat": 4,
  "nbformat_minor": 0,
  "metadata": {
    "colab": {
      "provenance": []
    },
    "kernelspec": {
      "name": "python3",
      "display_name": "Python 3"
    },
    "language_info": {
      "name": "python"
    }
  },
  "cells": [
    {
      "cell_type": "markdown",
      "source": [
        "## Leetcode 1221 - Split a String in Balanced Strings\n",
        "Balanced strings are those that have an equal quantity of 'L' and 'R' characters.\n",
        "\n",
        "Given a balanced string s, split it into some number of substrings such that:\n",
        "\n",
        "Each substring is balanced.\n",
        "Return the maximum number of balanced strings you can obtain.\n",
        "\n",
        "\n",
        "\n",
        "Example 1:\n",
        "\n",
        "Input: s = \"RLRRLLRLRL\"\n",
        "Output: 4\n",
        "Explanation: s can be split into \"RL\", \"RRLL\", \"RL\", \"RL\", each substring contains same number of 'L' and 'R'.\n",
        "Example 2:\n",
        "\n",
        "Input: s = \"RLRRRLLRLL\"\n",
        "Output: 2\n",
        "Explanation: s can be split into \"RL\", \"RRRLLRLL\", each substring contains same number of 'L' and 'R'.\n",
        "Note that s cannot be split into \"RL\", \"RR\", \"RL\", \"LR\", \"LL\", because the 2nd and 5th substrings are not balanced.\n",
        "Example 3:\n",
        "\n",
        "Input: s = \"LLLLRRRR\"\n",
        "Output: 1\n",
        "Explanation: s can be split into \"LLLLRRRR\"."
      ],
      "metadata": {
        "id": "bsrZYJ-J8VAE"
      }
    },
    {
      "cell_type": "code",
      "execution_count": 1,
      "metadata": {
        "id": "H3iUj8otxbMF",
        "colab": {
          "base_uri": "https://localhost:8080/"
        },
        "outputId": "a9dc489d-2cd9-4952-d0a9-3e0448f4fc2d"
      },
      "outputs": [
        {
          "output_type": "stream",
          "name": "stdout",
          "text": [
            "Enter the string:RLRRLLRLRL\n",
            "4\n"
          ]
        }
      ],
      "source": [
        "s=input(\"Enter the string:\")\n",
        "count=0\n",
        "result=0\n",
        "for i in range(len(s)):\n",
        "  if s[i]=='R':\n",
        "    count+=1\n",
        "  else:\n",
        "    count-=1\n",
        "  if count==0:\n",
        "    result+=1\n",
        "print(result)"
      ]
    },
    {
      "cell_type": "markdown",
      "source": [
        "## Leetcode  125 - Valid Palindrome\n",
        "A phrase is a palindrome if, after converting all uppercase letters into lowercase letters and removing all non-alphanumeric characters, it reads the same forward and backward. Alphanumeric characters include letters and numbers.\n",
        "\n",
        "Given a string s, return true if it is a palindrome, or false otherwise.\n",
        "\n",
        "Example 1:\n",
        "\n",
        "Input: s = \"A man, a plan, a canal: Panama\"\n",
        "Output: true\n",
        "Explanation: \"amanaplanacanalpanama\" is a palindrome.\n",
        "Example 2:\n",
        "\n",
        "Input: s = \"race a car\"\n",
        "Output: false\n",
        "Explanation: \"raceacar\" is not a palindrome.\n",
        "Example 3:\n",
        "\n",
        "Input: s = \" \"\n",
        "Output: true\n",
        "Explanation: s is an empty string \"\" after removing non-alphanumeric characters.\n",
        "Since an empty string reads the same forward and backward, it is a palindrome."
      ],
      "metadata": {
        "id": "n1XoqgPk9ybL"
      }
    },
    {
      "cell_type": "code",
      "source": [
        "s=input(\"Enter the string:\")\n",
        "low=0\n",
        "high=len(s)-1\n",
        "while low<high:\n",
        "  while low < high and not s[low].isalnum():\n",
        "    low+=1\n",
        "  while low < high and not s[high].isalnum():\n",
        "    high-=1\n",
        "  if s[low].lower()!=s[high].lower():\n",
        "    flag=0\n",
        "    break;\n",
        "  low+=1\n",
        "  high-=1\n",
        "flag=1\n",
        "print(\"False\" if flag==0 else \"True\")"
      ],
      "metadata": {
        "colab": {
          "base_uri": "https://localhost:8080/"
        },
        "id": "qsTyP69G98Xy",
        "outputId": "264369c5-4f56-4b37-c75d-b0c8edff98bb"
      },
      "execution_count": 2,
      "outputs": [
        {
          "output_type": "stream",
          "name": "stdout",
          "text": [
            "Enter the string:A man, a plan, a canal: Panama\n",
            "True\n"
          ]
        }
      ]
    },
    {
      "cell_type": "markdown",
      "source": [
        "## Leetcode 345 - Reverse Vowels of a String\n",
        "Given a string s, reverse only all the vowels in the string and return it.\n",
        "\n",
        "The vowels are 'a', 'e', 'i', 'o', and 'u', and they can appear in both lower and upper cases, more than once.\n",
        "\n",
        "\n",
        "Example 1:\n",
        "\n",
        "Input: s = \"hello\"\n",
        "Output: \"holle\"\n",
        "Example 2:\n",
        "\n",
        "Input: s = \"leetcode\"\n",
        "Output: \"leotcede\""
      ],
      "metadata": {
        "id": "Fyl-5BMjGwip"
      }
    },
    {
      "cell_type": "code",
      "source": [
        "s=input(\"Enter the string:\")\n",
        "l=list(s)\n",
        "low=0\n",
        "high=len(l)-1\n",
        "vowels={'a','e','i','o','u','A','E','I','O','U'}\n",
        "while(low<high):\n",
        "  if l[low] in vowels and l[high] in vowels:\n",
        "    l[low],l[high]=l[high],l[low]\n",
        "    low+=1\n",
        "    high-=1\n",
        "  elif l[low] in vowels:\n",
        "    high-=1\n",
        "  else:\n",
        "    low+=1\n",
        "print(\"\".join(l))"
      ],
      "metadata": {
        "colab": {
          "base_uri": "https://localhost:8080/"
        },
        "id": "M8mnKoX9G3sy",
        "outputId": "3c9f241f-39c0-4614-ad63-937b2f2be08e"
      },
      "execution_count": 3,
      "outputs": [
        {
          "output_type": "stream",
          "name": "stdout",
          "text": [
            "Enter the string:hello\n",
            "holle\n"
          ]
        }
      ]
    }
  ]
}