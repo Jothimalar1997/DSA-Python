{
  "nbformat": 4,
  "nbformat_minor": 0,
  "metadata": {
    "colab": {
      "provenance": []
    },
    "kernelspec": {
      "name": "python3",
      "display_name": "Python 3"
    },
    "language_info": {
      "name": "python"
    }
  },
  "cells": [
    {
      "cell_type": "markdown",
      "source": [
        "## Leetcode 509 - Fibonacci Number\n",
        "The Fibonacci numbers, commonly denoted F(n) form a sequence, called the Fibonacci sequence, such that each number is the sum of the two preceding ones, starting from 0 and 1. That is,\n",
        "\n",
        "F(0) = 0, F(1) = 1\n",
        "F(n) = F(n - 1) + F(n - 2), for n > 1.\n",
        "Given n, calculate F(n).\n",
        "\n",
        "Example 1:\n",
        "\n",
        "Input: n = 2\n",
        "Output: 1\n",
        "Explanation: F(2) = F(1) + F(0) = 1 + 0 = 1.\n",
        "Example 2:\n",
        "\n",
        "Input: n = 3\n",
        "Output: 2\n",
        "Explanation: F(3) = F(2) + F(1) = 1 + 1 = 2.\n",
        "Example 3:\n",
        "\n",
        "Input: n = 4\n",
        "Output: 3\n",
        "Explanation: F(4) = F(3) + F(2) = 2 + 1 = 3."
      ],
      "metadata": {
        "id": "0cOl-4YXmIqJ"
      }
    },
    {
      "cell_type": "code",
      "execution_count": 1,
      "metadata": {
        "colab": {
          "base_uri": "https://localhost:8080/"
        },
        "id": "7dtjXvQPmCic",
        "outputId": "fdb715d7-50c9-47f5-fcf3-6523bd462ebd"
      },
      "outputs": [
        {
          "output_type": "stream",
          "name": "stdout",
          "text": [
            "Enter the value of n:4\n",
            "Fibonacci of the number 4 is 3\n"
          ]
        }
      ],
      "source": [
        "num=int(input(\"Enter the value of n:\"))\n",
        "def fibo(n):\n",
        "  # Base condition:\n",
        "  if (n<=1):\n",
        "    return n\n",
        "  ## Recurrence:\n",
        "  return fibo(n-2)+fibo(n-1)\n",
        "result=fibo(num)\n",
        "print(f\"Fibonacci of the number {num} is {result}\")"
      ]
    },
    {
      "cell_type": "markdown",
      "source": [
        "## Leetcode 70 - Climbing Stairs\n",
        "You are climbing a staircase. It takes n steps to reach the top.\n",
        "\n",
        "Each time you can either climb 1 or 2 steps. In how many distinct ways can you climb to the top?\n",
        "\n",
        "Example 1:\n",
        "\n",
        "Input: n = 2\n",
        "Output: 2\n",
        "Explanation: There are two ways to climb to the top.\n",
        "1. 1 step + 1 step\n",
        "2. 2 steps\n",
        "Example 2:\n",
        "\n",
        "Input: n = 3\n",
        "Output: 3\n",
        "Explanation: There are three ways to climb to the top.\n",
        "1. 1 step + 1 step + 1 step\n",
        "2. 1 step + 2 steps\n",
        "3. 2 steps + 1 step"
      ],
      "metadata": {
        "id": "da4onFpwm-q4"
      }
    },
    {
      "cell_type": "code",
      "source": [
        "n=int(input(\"Enter the value of n:\"))\n",
        "def climbStairs(n):\n",
        "        if n==1 or n==2:\n",
        "            return n\n",
        "        num1=1\n",
        "        num2=2\n",
        "        for i in range(3,n+1):\n",
        "            num3=num1+num2\n",
        "            num1=num2\n",
        "            num2=num3\n",
        "        return num2\n",
        "result=climbStairs(n)\n",
        "print(f\"The number of ways to climb to the top is {result}\")"
      ],
      "metadata": {
        "colab": {
          "base_uri": "https://localhost:8080/"
        },
        "id": "W54HOZdJnHLh",
        "outputId": "ea4f2b43-b94a-4270-d117-7c7406826588"
      },
      "execution_count": 2,
      "outputs": [
        {
          "output_type": "stream",
          "name": "stdout",
          "text": [
            "Enter the value of n:5\n",
            "The number of ways to climb to the top is 8\n"
          ]
        }
      ]
    },
    {
      "cell_type": "markdown",
      "source": [
        "## Leetcode 258 - Add Digits\n",
        "Given an integer num, repeatedly add all its digits until the result has only one digit, and return it.\n",
        "\n",
        "Example 1:\n",
        "\n",
        "Input: num = 38\n",
        "Output: 2\n",
        "Explanation: The process is\n",
        "38 --> 3 + 8 --> 11\n",
        "11 --> 1 + 1 --> 2\n",
        "Since 2 has only one digit, return it.\n",
        "Example 2:\n",
        "\n",
        "Input: num = 0\n",
        "Output: 0"
      ],
      "metadata": {
        "id": "wsn6ge67nmTO"
      }
    },
    {
      "cell_type": "code",
      "source": [
        "num=int(input(\"Enter the value of n:\"))\n",
        "def SumOfDigits(n):\n",
        "            res=0\n",
        "            if n==0:\n",
        "                return 0\n",
        "            return (n%10)+SumOfDigits(n//10)\n",
        "result=SumOfDigits(num)\n",
        "if(len(str(result))!=1):\n",
        "  result=SumOfDigits(result)\n",
        "print(result)"
      ],
      "metadata": {
        "colab": {
          "base_uri": "https://localhost:8080/"
        },
        "id": "EM2eFjDWnwTP",
        "outputId": "0a89745e-5ed8-43f2-c723-8114f6fdca80"
      },
      "execution_count": 3,
      "outputs": [
        {
          "output_type": "stream",
          "name": "stdout",
          "text": [
            "Enter the value of n:38\n",
            "2\n"
          ]
        }
      ]
    },
    {
      "cell_type": "markdown",
      "source": [
        "## Leetcode 2544 - Alternating Digit Sum\n",
        "You are given a positive integer n. Each digit of n has a sign according to the following rules:\n",
        "\n",
        "The most significant digit is assigned a positive sign.\n",
        "Each other digit has an opposite sign to its adjacent digits.\n",
        "Return the sum of all digits with their corresponding sign.\n",
        "\n",
        "\n",
        "\n",
        "Example 1:\n",
        "\n",
        "Input: n = 521\n",
        "Output: 4\n",
        "Explanation: (+5) + (-2) + (+1) = 4.\n",
        "Example 2:\n",
        "\n",
        "Input: n = 111\n",
        "Output: 1\n",
        "Explanation: (+1) + (-1) + (+1) = 1.\n",
        "Example 3:\n",
        "\n",
        "Input: n = 886996\n",
        "Output: 0\n",
        "Explanation: (+8) + (-8) + (+6) + (-9) + (+9) + (-6) = 0."
      ],
      "metadata": {
        "id": "bxSRQLiDpt47"
      }
    },
    {
      "cell_type": "code",
      "source": [
        "n=int(input(\"Enter the value of n:\"))\n",
        "result=0\n",
        "s=str(n)\n",
        "for i in range(len(s)):\n",
        "  if i%2==0:\n",
        "    result+=int(s[i])\n",
        "  else:\n",
        "    result-=int(s[i])\n",
        "print(result)"
      ],
      "metadata": {
        "colab": {
          "base_uri": "https://localhost:8080/"
        },
        "id": "L1CogIjup3oC",
        "outputId": "83c8522b-b3f1-4522-d6a0-f650cee83419"
      },
      "execution_count": 4,
      "outputs": [
        {
          "output_type": "stream",
          "name": "stdout",
          "text": [
            "Enter the value of n:886996\n",
            "0\n"
          ]
        }
      ]
    }
  ]
}