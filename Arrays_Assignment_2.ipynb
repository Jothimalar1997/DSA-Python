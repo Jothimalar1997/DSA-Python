{
  "nbformat": 4,
  "nbformat_minor": 0,
  "metadata": {
    "colab": {
      "provenance": []
    },
    "kernelspec": {
      "name": "python3",
      "display_name": "Python 3"
    },
    "language_info": {
      "name": "python"
    }
  },
  "cells": [
    {
      "cell_type": "markdown",
      "source": [
        "## Leetcode 561 - Array Partition\n",
        "Given an integer array nums of 2n integers, group these integers into n pairs (a1, b1), (a2, b2), ..., (an, bn) such that the sum of min(ai, bi) for all i is maximized. Return the maximized sum.\n",
        "\n",
        "Example 1:\n",
        "\n",
        "Input: nums = [1,4,3,2]\n",
        "Output: 4\n",
        "Explanation: All possible pairings (ignoring the ordering of elements) are:\n",
        "1. (1, 4), (2, 3) -> min(1, 4) + min(2, 3) = 1 + 2 = 3\n",
        "2. (1, 3), (2, 4) -> min(1, 3) + min(2, 4) = 1 + 2 = 3\n",
        "3. (1, 2), (3, 4) -> min(1, 2) + min(3, 4) = 1 + 3 = 4\n",
        "So the maximum possible sum is 4.\n",
        "Example 2:\n",
        "\n",
        "Input: nums = [6,2,6,5,1,2]\n",
        "Output: 9\n",
        "Explanation: The optimal pairing is (2, 1), (2, 5), (6, 6). min(2, 1) + min(2, 5) + min(6, 6) = 1 + 2 + 6 = 9."
      ],
      "metadata": {
        "id": "lwcRvHFwRBLl"
      }
    },
    {
      "cell_type": "code",
      "execution_count": 1,
      "metadata": {
        "colab": {
          "base_uri": "https://localhost:8080/"
        },
        "id": "-B35LcV0Q50C",
        "outputId": "df223b3c-441c-4327-9076-f18fcff58edf"
      },
      "outputs": [
        {
          "output_type": "stream",
          "name": "stdout",
          "text": [
            "Enter the array elements:6,2,6,5,1,2\n",
            "9\n"
          ]
        }
      ],
      "source": [
        "nums=list(map(int,input(\"Enter the array elements:\").split(\",\")))\n",
        "nums.sort()\n",
        "sum=0\n",
        "for i in range(0,len(nums),2):\n",
        "  sum+=nums[i]\n",
        "print(sum)"
      ]
    },
    {
      "cell_type": "markdown",
      "source": [
        "## Leetcode 575 - Distribute Candies\n",
        "Alice has n candies, where the ith candy is of type candyType[i]. Alice noticed that she started to gain weight, so she visited a doctor.\n",
        "\n",
        "The doctor advised Alice to only eat n / 2 of the candies she has (n is always even). Alice likes her candies very much, and she wants to eat the maximum number of different types of candies while still following the doctor's advice.\n",
        "\n",
        "Given the integer array candyType of length n, return the maximum number of different types of candies she can eat if she only eats n / 2 of them.\n",
        "\n",
        "Example 1:\n",
        "\n",
        "Input: candyType = [1,1,2,2,3,3]\n",
        "Output: 3\n",
        "Explanation: Alice can only eat 6 / 2 = 3 candies. Since there are only 3 types, she can eat one of each type.\n",
        "Example 2:\n",
        "\n",
        "Input: candyType = [1,1,2,3]\n",
        "Output: 2\n",
        "Explanation: Alice can only eat 4 / 2 = 2 candies. Whether she eats types [1,2], [1,3], or [2,3], she still can only eat 2 different types.\n",
        "Example 3:\n",
        "\n",
        "Input: candyType = [6,6,6,6]\n",
        "Output: 1\n",
        "Explanation: Alice can only eat 4 / 2 = 2 candies. Even though she can eat 2 candies, she only has 1 type."
      ],
      "metadata": {
        "id": "RkUELp-7WB90"
      }
    },
    {
      "cell_type": "code",
      "source": [
        "candyType=list(map(int,input(\"Enter the candy type:\").split(\",\")))\n",
        "n=len(candyType)//2\n",
        "s=set(candyType)\n",
        "print(min(len(s),n))"
      ],
      "metadata": {
        "colab": {
          "base_uri": "https://localhost:8080/"
        },
        "id": "a6A4eMyuXV6k",
        "outputId": "488887b3-20db-485f-9561-361da482993d"
      },
      "execution_count": 2,
      "outputs": [
        {
          "output_type": "stream",
          "name": "stdout",
          "text": [
            "Enter the candy type:1,1,2,3\n",
            "2\n"
          ]
        }
      ]
    },
    {
      "cell_type": "markdown",
      "source": [
        "## Leetcode 594 - Longest Harmonious Subsequence\n",
        "We define a harmonious array as an array where the difference between its maximum value and its minimum value is exactly 1.\n",
        "\n",
        "Given an integer array nums, return the length of its longest harmonious subsequence among all its possible subsequences.\n",
        "\n",
        "A subsequence of array is a sequence that can be derived from the array by deleting some or no elements without changing the order of the remaining elements.\n",
        "\n",
        "\n",
        "Example 1:\n",
        "\n",
        "Input: nums = [1,3,2,2,5,2,3,7]\n",
        "Output: 5\n",
        "Explanation: The longest harmonious subsequence is [3,2,2,2,3].\n",
        "Example 2:\n",
        "\n",
        "Input: nums = [1,2,3,4]\n",
        "Output: 2\n",
        "Example 3:\n",
        "\n",
        "Input: nums = [1,1,1,1]\n",
        "Output: 0"
      ],
      "metadata": {
        "id": "K5g0ufpVZ-0N"
      }
    },
    {
      "cell_type": "code",
      "source": [
        "from collections import Counter\n",
        "nums=list(map(int,input(\"Enter the array elements:\").split(\",\")))\n",
        "count=Counter(nums)\n",
        "print(count)\n",
        "length=0\n",
        "for i in count:\n",
        "  if(count[i+1]):\n",
        "    length=max(length,count[i]+count[i+1])\n",
        "print(\"The longest harmonious subsequence is:\",length)"
      ],
      "metadata": {
        "colab": {
          "base_uri": "https://localhost:8080/"
        },
        "id": "p1myH-DraFNd",
        "outputId": "d3aebc61-b5e6-48ff-8ebc-d064e8e93ad0"
      },
      "execution_count": 3,
      "outputs": [
        {
          "output_type": "stream",
          "name": "stdout",
          "text": [
            "Enter the array elements:1,3,2,2,5,2,3,7\n",
            "Counter({2: 3, 3: 2, 1: 1, 5: 1, 7: 1})\n",
            "The longest harmonious subsequence is: 5\n"
          ]
        }
      ]
    },
    {
      "cell_type": "markdown",
      "source": [
        "## Leetcode 605 - Can Place Flowers\n",
        "You have a long flowerbed in which some of the plots are planted, and some are not. However, flowers cannot be planted in adjacent plots.\n",
        "\n",
        "Given an integer array flowerbed containing 0's and 1's, where 0 means empty and 1 means not empty, and an integer n, return true if n new flowers can be planted in the flowerbed without violating the no-adjacent-flowers rule and false otherwise.\n",
        "\n",
        "\n",
        "Example 1:\n",
        "\n",
        "Input: flowerbed = [1,0,0,0,1], n = 1\n",
        "Output: true\n",
        "Example 2:\n",
        "\n",
        "Input: flowerbed = [1,0,0,0,1], n = 2\n",
        "Output: false\n",
        "\n",
        "Input: flowerbed = [0,0,1,0,1], n=1\n",
        "Output: true"
      ],
      "metadata": {
        "id": "UK7CA3OKgZW0"
      }
    },
    {
      "cell_type": "code",
      "source": [
        "flowerbed=list(map(int,input(\"Enter the elements:\").split(\",\")))\n",
        "n=int(input(\"Enter the n value:\"))\n",
        "count = 0\n",
        "for i in range(len(flowerbed)):\n",
        "# Check if the current plot is empty.\n",
        "  if flowerbed[i] == 0:\n",
        "    # Check if the left and right plots are empty.\n",
        "    empty_left_plot = (i == 0) or (flowerbed[i - 1] == 0)\n",
        "    empty_right_lot = (i == len(flowerbed) - 1) or (flowerbed[i + 1] == 0)\n",
        "# If both plots are empty, we can plant a flower here.\n",
        "    if empty_left_plot and empty_right_lot:\n",
        "      flowerbed[i] = 1\n",
        "      count += 1\n",
        "print(count >= n)"
      ],
      "metadata": {
        "colab": {
          "base_uri": "https://localhost:8080/"
        },
        "id": "G-BcBdvsggoc",
        "outputId": "baa254ed-3f70-45e4-b88b-993e3fba4da9"
      },
      "execution_count": 4,
      "outputs": [
        {
          "output_type": "stream",
          "name": "stdout",
          "text": [
            "Enter the elements:1,0,0,0,1\n",
            "Enter the n value:1\n",
            "True\n"
          ]
        }
      ]
    },
    {
      "cell_type": "markdown",
      "source": [
        "## Leetcode 628 - Maximum Product of Three Numbers:\n",
        "Given an integer array nums, find three numbers whose product is maximum and return the maximum product.\n",
        "\n",
        "Example 1:\n",
        "\n",
        "Input: nums = [1,2,3]\n",
        "Output: 6\n",
        "Example 2:\n",
        "\n",
        "Input: nums = [1,2,3,4]\n",
        "Output: 24\n",
        "Example 3:\n",
        "\n",
        "Input: nums = [-1,-2,-3]\n",
        "Output: -6\n"
      ],
      "metadata": {
        "id": "te7bEcIBlfXL"
      }
    },
    {
      "cell_type": "code",
      "source": [
        "nums=list(map(int,input(\"Enter the array elements:\").split(\",\")))\n",
        "n=len(nums)-1\n",
        "nums.sort()\n",
        "print(max((nums[0]*nums[1]*nums[n]),(nums[n]*nums[n-1]*nums[n-2])))"
      ],
      "metadata": {
        "id": "czEmnPDLlmsi",
        "colab": {
          "base_uri": "https://localhost:8080/"
        },
        "outputId": "ed248caf-a91e-4210-916d-3ddc3b07286c"
      },
      "execution_count": 5,
      "outputs": [
        {
          "output_type": "stream",
          "name": "stdout",
          "text": [
            "Enter the array elements:1,2,3,4\n",
            "24\n"
          ]
        }
      ]
    },
    {
      "cell_type": "markdown",
      "source": [
        "##  Leetcode 704 - Binary Search\n",
        "Given an array of integers nums which is sorted in ascending order, and an integer target, write a function to search target in nums. If target exists, then return its index. Otherwise, return -1.\n",
        "\n",
        "You must write an algorithm with O(log n) runtime complexity.\n",
        "\n",
        "\n",
        "Example 1:\n",
        "\n",
        "Input: nums = [-1,0,3,5,9,12], target = 9\n",
        "Output: 4\n",
        "Explanation: 9 exists in nums and its index is 4\n",
        "Example 2:\n",
        "\n",
        "Input: nums = [-1,0,3,5,9,12], target = 2\n",
        "Output: -1\n",
        "Explanation: 2 does not exist in nums so return -1"
      ],
      "metadata": {
        "id": "1TCHrSieCkp8"
      }
    },
    {
      "cell_type": "code",
      "source": [
        "nums=list(map(int,input(\"Enter the array elements:\").split(\",\")))\n",
        "target=int(input(\"Enter the target elements:\"))\n",
        "low=0\n",
        "high=len(nums)-1\n",
        "def search(nums,target,low,high):\n",
        "  while(low<=high):\n",
        "    mid=low+(high-low)//2\n",
        "    if(nums[mid]==target):\n",
        "      flag=1\n",
        "      return mid\n",
        "    elif(nums[mid]>target):\n",
        "      high=mid-1\n",
        "    else:\n",
        "      low=mid+1\n",
        "  return -1\n",
        "result=search(nums,target,low,high)\n",
        "print(result)"
      ],
      "metadata": {
        "colab": {
          "base_uri": "https://localhost:8080/"
        },
        "id": "2afPoLV_CxQL",
        "outputId": "7975f922-ffa7-476a-bc95-51c1343802ce"
      },
      "execution_count": 6,
      "outputs": [
        {
          "output_type": "stream",
          "name": "stdout",
          "text": [
            "Enter the array elements:-1,0,3,5,9,12\n",
            "Enter the target elements:9\n",
            "4\n"
          ]
        }
      ]
    },
    {
      "cell_type": "markdown",
      "source": [
        "## Leetcode 896 - Monotonic Array\n",
        "An array is monotonic if it is either monotone increasing or monotone decreasing.\n",
        "\n",
        "An array nums is monotone increasing if for all i <= j, nums[i] <= nums[j]. An array nums is monotone decreasing if for all i <= j, nums[i] >= nums[j].\n",
        "\n",
        "Given an integer array nums, return true if the given array is monotonic, or false otherwise.\n",
        "\n",
        "Example 1:\n",
        "\n",
        "Input: nums = [1,2,2,3]\n",
        "Output: true\n",
        "Example 2:\n",
        "\n",
        "Input: nums = [6,5,4,4]\n",
        "Output: true\n",
        "Example 3:\n",
        "\n",
        "Input: nums = [1,3,2]\n",
        "Output: false\n"
      ],
      "metadata": {
        "id": "_FOGVr8YFD_S"
      }
    },
    {
      "cell_type": "code",
      "source": [
        "nums=list(map(int,input(\"Enter the array elements:\").split(\",\")))\n",
        "print(nums == sorted(nums) or nums == sorted(nums, reverse=True))"
      ],
      "metadata": {
        "colab": {
          "base_uri": "https://localhost:8080/"
        },
        "id": "GpuT7XkbFdVv",
        "outputId": "acc7f2d5-71cf-4093-86ec-8e40a7de3f2a"
      },
      "execution_count": 7,
      "outputs": [
        {
          "output_type": "stream",
          "name": "stdout",
          "text": [
            "Enter the array elements:1,2,2,3\n",
            "True\n"
          ]
        }
      ]
    },
    {
      "cell_type": "markdown",
      "source": [
        "## Leetcode 908 - Smallest Range I\n",
        "You are given an integer array nums and an integer k.\n",
        "\n",
        "In one operation, you can choose any index i where 0 <= i < nums.length and change nums[i] to nums[i] + x where x is an integer from the range [-k, k]. You can apply this operation at most once for each index i.\n",
        "\n",
        "The score of nums is the difference between the maximum and minimum elements in nums.\n",
        "\n",
        "Return the minimum score of nums after applying the mentioned operation at most once for each index in it.\n",
        "\n",
        "Example 1:\n",
        "Input: nums = [1], k = 0\n",
        "Output: 0\n",
        "\n",
        "Explanation: The score is max(nums) - min(nums) = 1 - 1 = 0."
      ],
      "metadata": {
        "id": "D8gtQ6e3U7KP"
      }
    },
    {
      "cell_type": "code",
      "source": [
        "nums=list(map(int,input(\"Enter the array elements:\").split(\",\")))\n",
        "k=int(input(\"Enter the value of k:\"))\n",
        "max(0,(max(nums)-k)-(min(nums)+k))"
      ],
      "metadata": {
        "colab": {
          "base_uri": "https://localhost:8080/"
        },
        "id": "mqg101G0VAFu",
        "outputId": "9a0426e1-e3dd-406e-a9fc-04c227fa302d"
      },
      "execution_count": 8,
      "outputs": [
        {
          "name": "stdout",
          "output_type": "stream",
          "text": [
            "Enter the array elements:1\n",
            "Enter the value of k:0\n"
          ]
        },
        {
          "output_type": "execute_result",
          "data": {
            "text/plain": [
              "0"
            ]
          },
          "metadata": {},
          "execution_count": 8
        }
      ]
    }
  ]
}