{
  "nbformat": 4,
  "nbformat_minor": 0,
  "metadata": {
    "colab": {
      "provenance": []
    },
    "kernelspec": {
      "name": "python3",
      "display_name": "Python 3"
    },
    "language_info": {
      "name": "python"
    }
  },
  "cells": [
    {
      "cell_type": "markdown",
      "source": [
        "## Move Zeroes\n",
        "Given an integer array nums, move all 0's to the end of it while maintaining the relative order of the non-zero elements.\n",
        "\n",
        "Note that you must do this in-place without making a copy of the array.\n",
        "\n",
        "Example 1:\n",
        "Input: nums = [0,1,0,3,12]\n",
        "Output: [1,3,12,0,0]\n",
        "\n",
        "Example 2:\n",
        "Input: nums = [0]\n",
        "Output: [0]\n",
        "\n",
        "Constraints:\n",
        "a. 1 <= nums.length <= 10^4\n",
        "b. -2^31 <= nums[i] <= 2^31 - 1"
      ],
      "metadata": {
        "id": "Hg1jVf8dc0GQ"
      }
    },
    {
      "cell_type": "code",
      "execution_count": 1,
      "metadata": {
        "colab": {
          "base_uri": "https://localhost:8080/"
        },
        "id": "-eEBvJ96cvFJ",
        "outputId": "bbe016f4-d000-4913-c79e-1959d8f56921"
      },
      "outputs": [
        {
          "output_type": "stream",
          "name": "stdout",
          "text": [
            "Enter the array elements:0,1,0,3,12\n",
            "[1, 3, 12, 0, 0]\n"
          ]
        }
      ],
      "source": [
        "nums=(list(map(int,input(\"Enter the array elements:\").split(\",\"))))\n",
        "for i in nums:\n",
        "  if i==0:\n",
        "    nums.remove(i)\n",
        "    nums.append(0)\n",
        "print(nums)"
      ]
    },
    {
      "cell_type": "markdown",
      "source": [
        "## First Unique Character in a String\n",
        "\n",
        "Given a string s, find the first non-repeating character in it and return its index. If it does not exist, return -1.\n",
        "\n",
        "Example 1:\n",
        "Input: s = \"leetcode\"\n",
        "Output: 0\n",
        "\n",
        "Example 2:\n",
        "Input: s = \"loveleetcode\"\n",
        "Output: 2\n",
        "\n",
        "Example 3:\n",
        "Input: s = \"aabb\"\n",
        "Output: -1\n",
        "\n",
        "Constraints:\n",
        "a. 1 <= s.length <= 10^5\n",
        "b. s consists of only lowercase English letters."
      ],
      "metadata": {
        "id": "6C4Hh7pBdrqI"
      }
    },
    {
      "cell_type": "code",
      "source": [
        "s=input(\"Enter the string:\")\n",
        "def UniqueCharacter(s):\n",
        "  for i in range(len(s)):\n",
        "      if(s.count(s[i])==1):\n",
        "          return i\n",
        "  return -1\n",
        "result=UniqueCharacter(s)\n",
        "print(result)"
      ],
      "metadata": {
        "colab": {
          "base_uri": "https://localhost:8080/"
        },
        "id": "7rgTYdCod7f8",
        "outputId": "8cd2feb0-bd69-45f7-aec6-f99f60df5ad1"
      },
      "execution_count": 2,
      "outputs": [
        {
          "output_type": "stream",
          "name": "stdout",
          "text": [
            "Enter the string:loveleetcode\n",
            "2\n"
          ]
        }
      ]
    }
  ]
}